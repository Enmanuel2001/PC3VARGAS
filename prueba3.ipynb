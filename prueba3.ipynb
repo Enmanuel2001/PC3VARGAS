{
  "nbformat": 4,
  "nbformat_minor": 0,
  "metadata": {
    "colab": {
      "name": "Untitled0.ipynb",
      "provenance": []
    },
    "kernelspec": {
      "name": "python3",
      "display_name": "Python 3"
    },
    "language_info": {
      "name": "python"
    }
  },
  "cells": [
    {
      "cell_type": "code",
      "source": [
        "def factorial(numero):\n",
        "    if numero < 0:\n",
        "        return \"Error ingrese un número entero positivo.\"\n",
        "    factorial = 1\n",
        "    while numero > 0:\n",
        "        factorial = factorial * numero\n",
        "        numero -= 1\n",
        "    return factorial"
      ],
      "metadata": {
        "id": "WPuN6Iii-3UP"
      },
      "execution_count": 3,
      "outputs": []
    }
  ]
}