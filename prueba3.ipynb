{
 "cells": [
  {
   "cell_type": "code",
   "execution_count": 6,
   "metadata": {
    "colab": {
     "base_uri": "https://localhost:8080/"
    },
    "executionInfo": {
     "elapsed": 674,
     "status": "ok",
     "timestamp": 1658757869287,
     "user": {
      "displayName": "Jose Enmanuel Vargas Cespedes",
      "userId": "06603923476836731051"
     },
     "user_tz": 300
    },
    "id": "z8zFKZykqT7H",
    "outputId": "aa54700c-f26e-4353-cc57-57b2049c2f5e"
   },
   "outputs": [
    {
     "data": {
      "text/plain": [
       "120"
      ]
     },
     "execution_count": 6,
     "metadata": {},
     "output_type": "execute_result"
    }
   ],
   "source": [
    "# FUNCION FACTORIAL\n",
    "def factorial(a):\n",
    "  resultado=1\n",
    "  for i in range(1,a+1):\n",
    "    resultado=resultado*i\n",
    "  return resultado\n",
    "factorial(5)"
   ]
  },
  {
   "cell_type": "code",
   "execution_count": 7,
   "metadata": {
    "colab": {
     "base_uri": "https://localhost:8080/"
    },
    "executionInfo": {
     "elapsed": 3,
     "status": "ok",
     "timestamp": 1658758111691,
     "user": {
      "displayName": "Jose Enmanuel Vargas Cespedes",
      "userId": "06603923476836731051"
     },
     "user_tz": 300
    },
    "id": "O07_U2h-ro23",
    "outputId": "539a636f-5732-4fd3-a834-8fdae1b35752"
   },
   "outputs": [
    {
     "name": "stdout",
     "output_type": "stream",
     "text": [
      "   0\n",
      "0  a\n",
      "1  b\n",
      "2  c\n",
      "3  d\n",
      "4  e\n",
      "5  f\n",
      "6  g\n",
      "7  h\n",
      "8  i\n",
      "9  j\n"
     ]
    }
   ],
   "source": [
    "#datos3\n",
    "import csv \n",
    "import pandas as pd\n",
    "abecedareo=[\"a\",\"b\",\"c\",\"d\",\"e\",\"f\",\"g\",\"h\",\"i\",\"j\"]\n",
    "L=pd.DataFrame(abecedareo)\n",
    "L.to_csv(\"datos3.csv\",encoding='UTF-8')\n",
    "print(L)  "
   ]
  },
  {
   "cell_type": "code",
   "execution_count": null,
   "metadata": {},
   "outputs": [],
   "source": [
    "# Función CAMILO MENDEZ\n",
    "def factorial(numero):\n",
    "    if numero < 0:\n",
    "        return \"Error ingrese un número entero positivo.\"\n",
    "    factorial = 1\n",
    "    while numero > 0:\n",
    "        factorial = factorial * numero\n",
    "        numero -= 1\n",
    "    return factorial"
   ]
  }
 ],
 "metadata": {
  "colab": {
   "authorship_tag": "ABX9TyNelTjDLGUt0FibpjE1CuYz",
   "name": "prueba3.ipynb",
   "provenance": []
  },
  "kernelspec": {
   "display_name": "Python 3 (ipykernel)",
   "language": "python",
   "name": "python3"
  },
  "language_info": {
   "codemirror_mode": {
    "name": "ipython",
    "version": 3
   },
   "file_extension": ".py",
   "mimetype": "text/x-python",
   "name": "python",
   "nbconvert_exporter": "python",
   "pygments_lexer": "ipython3",
   "version": "3.9.12"
  }
 },
 "nbformat": 4,
 "nbformat_minor": 1
}
